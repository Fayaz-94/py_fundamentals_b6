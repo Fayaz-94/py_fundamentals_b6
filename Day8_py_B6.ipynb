{
 "cells": [
  {
   "cell_type": "code",
   "execution_count": null,
   "metadata": {},
   "outputs": [],
   "source": [
    "using for looping in dict:\n"
   ]
  },
  {
   "cell_type": "code",
   "execution_count": 1,
   "metadata": {},
   "outputs": [
    {
     "name": "stdout",
     "output_type": "stream",
     "text": [
      "{'username': 'student1', 'first_name': 'karthik', 'last_name': 'v'}\n"
     ]
    }
   ],
   "source": [
    "user_0 = {\n",
    "    'username':'student1',\n",
    "    'first_name':'karthik',\n",
    "    'last_name':'v'\n",
    "}\n",
    "\n",
    "\n",
    "print(user_0)"
   ]
  },
  {
   "cell_type": "code",
   "execution_count": 5,
   "metadata": {
    "scrolled": true
   },
   "outputs": [
    {
     "name": "stdout",
     "output_type": "stream",
     "text": [
      "\n",
      "key:username\n",
      "\n",
      "value:student1\n",
      "\n",
      "key:first_name\n",
      "\n",
      "value:karthik\n",
      "\n",
      "key:last_name\n",
      "\n",
      "value:v\n"
     ]
    }
   ],
   "source": [
    "for k,v in user_0.items(): #\n",
    "    print(f\"\\nkey:{k}\") # ref temp var-----k---key\n",
    "    print(f\"\\nvalue:{v}\") # ref temp var -----v----value"
   ]
  },
  {
   "cell_type": "code",
   "execution_count": 7,
   "metadata": {},
   "outputs": [
    {
     "name": "stdout",
     "output_type": "stream",
     "text": [
      "key:username\n",
      "key:first_name\n",
      "key:last_name\n"
     ]
    }
   ],
   "source": [
    "for k in user_0.keys():\n",
    "    print(f\"key:{k}\")"
   ]
  },
  {
   "cell_type": "code",
   "execution_count": 8,
   "metadata": {},
   "outputs": [
    {
     "name": "stdout",
     "output_type": "stream",
     "text": [
      "value:student1\n",
      "value:karthik\n",
      "value:v\n"
     ]
    }
   ],
   "source": [
    "for v in user_0.values():\n",
    "    print(f\"value:{v}\")"
   ]
  },
  {
   "cell_type": "code",
   "execution_count": null,
   "metadata": {},
   "outputs": [],
   "source": [
    "mutable data type:\n",
    "    \n",
    "change, modify or add, delete.\n",
    "\n",
    "how to delete a k-v pair in dict:"
   ]
  },
  {
   "cell_type": "code",
   "execution_count": 9,
   "metadata": {},
   "outputs": [
    {
     "name": "stdout",
     "output_type": "stream",
     "text": [
      "{'color': 'green', 'points': '5'}\n"
     ]
    }
   ],
   "source": [
    "alien = {'color':'green','points':'5'}\n",
    "\n",
    "print(alien)"
   ]
  },
  {
   "cell_type": "code",
   "execution_count": 10,
   "metadata": {},
   "outputs": [
    {
     "name": "stdout",
     "output_type": "stream",
     "text": [
      "{'color': 'green'}\n"
     ]
    }
   ],
   "source": [
    "del alien['points']\n",
    "\n",
    "print(alien)"
   ]
  },
  {
   "cell_type": "code",
   "execution_count": null,
   "metadata": {},
   "outputs": [],
   "source": [
    "userinputs:----->\n",
    "\n"
   ]
  }
 ],
 "metadata": {
  "kernelspec": {
   "display_name": "Python 3",
   "language": "python",
   "name": "python3"
  },
  "language_info": {
   "codemirror_mode": {
    "name": "ipython",
    "version": 3
   },
   "file_extension": ".py",
   "mimetype": "text/x-python",
   "name": "python",
   "nbconvert_exporter": "python",
   "pygments_lexer": "ipython3",
   "version": "3.7.3"
  }
 },
 "nbformat": 4,
 "nbformat_minor": 2
}
