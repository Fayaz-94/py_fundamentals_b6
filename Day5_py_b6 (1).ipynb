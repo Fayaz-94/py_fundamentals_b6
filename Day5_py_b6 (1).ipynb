{
 "cells": [
  {
   "cell_type": "code",
   "execution_count": null,
   "metadata": {},
   "outputs": [],
   "source": [
    "Organisng a list:**"
   ]
  },
  {
   "cell_type": "code",
   "execution_count": 1,
   "metadata": {},
   "outputs": [
    {
     "name": "stdout",
     "output_type": "stream",
     "text": [
      "['audi', 'benz', 'bmw', 'toyata']\n"
     ]
    }
   ],
   "source": [
    "cars = ['bmw','audi','toyata','benz']\n",
    "\n",
    "cars.sort()\n",
    "\n",
    "print(cars) #organise accroding the alphabetical order!"
   ]
  },
  {
   "cell_type": "code",
   "execution_count": 2,
   "metadata": {},
   "outputs": [
    {
     "ename": "NameError",
     "evalue": "name 'true' is not defined",
     "output_type": "error",
     "traceback": [
      "\u001b[0;31m---------------------------------------------------------------------------\u001b[0m",
      "\u001b[0;31mNameError\u001b[0m                                 Traceback (most recent call last)",
      "\u001b[0;32m<ipython-input-2-d21af86fa4dc>\u001b[0m in \u001b[0;36m<module>\u001b[0;34m\u001b[0m\n\u001b[0;32m----> 1\u001b[0;31m \u001b[0mcars\u001b[0m\u001b[0;34m.\u001b[0m\u001b[0msort\u001b[0m\u001b[0;34m(\u001b[0m\u001b[0mreverse\u001b[0m \u001b[0;34m=\u001b[0m \u001b[0mtrue\u001b[0m\u001b[0;34m)\u001b[0m\u001b[0;34m\u001b[0m\u001b[0;34m\u001b[0m\u001b[0m\n\u001b[0m\u001b[1;32m      2\u001b[0m \u001b[0;34m\u001b[0m\u001b[0m\n\u001b[1;32m      3\u001b[0m \u001b[0mprint\u001b[0m\u001b[0;34m(\u001b[0m\u001b[0mcars\u001b[0m\u001b[0;34m)\u001b[0m\u001b[0;34m\u001b[0m\u001b[0;34m\u001b[0m\u001b[0m\n",
      "\u001b[0;31mNameError\u001b[0m: name 'true' is not defined"
     ]
    }
   ],
   "source": [
    "cars.sort(reverse = true)\n",
    "\n",
    "print(cars)"
   ]
  },
  {
   "cell_type": "code",
   "execution_count": 3,
   "metadata": {},
   "outputs": [
    {
     "name": "stdout",
     "output_type": "stream",
     "text": [
      "['toyata', 'bmw', 'benz', 'audi']\n"
     ]
    }
   ],
   "source": [
    "cars.sort(reverse=True)\n",
    "\n",
    "print(cars) #the changes will taking effect as permenanent changes."
   ]
  },
  {
   "cell_type": "code",
   "execution_count": 7,
   "metadata": {},
   "outputs": [
    {
     "name": "stdout",
     "output_type": "stream",
     "text": [
      "['bmw', 'harley', 'honda', 're']\n"
     ]
    }
   ],
   "source": [
    "bikes = ['bmw','harley','honda','re']\n",
    "\n",
    "#obj: to make the effect only temp way\n",
    "\n",
    "print(bikes)\n",
    "\n"
   ]
  },
  {
   "cell_type": "code",
   "execution_count": 4,
   "metadata": {},
   "outputs": [
    {
     "name": "stdout",
     "output_type": "stream",
     "text": [
      "Here is the orginal list\n",
      "['bmw', 'harley', 'honda', 're']\n",
      "\n",
      "Here is the sorted list:\n",
      "['bmw', 'harley', 'honda', 're']\n",
      "\n",
      "rechecking the original list\n",
      "['bmw', 'harley', 'honda', 're']\n"
     ]
    }
   ],
   "source": [
    "print('Here is the orginal list')\n",
    "print(bikes)\n",
    "\n",
    "print('\\nHere is the sorted list:')\n",
    "print(sorted(bikes))\n",
    "\n",
    "print('\\nrechecking the original list')\n",
    "print(bikes) #element indexng position numbers are same....!!"
   ]
  },
  {
   "cell_type": "code",
   "execution_count": 6,
   "metadata": {},
   "outputs": [
    {
     "data": {
      "text/plain": [
       "5"
      ]
     },
     "execution_count": 6,
     "metadata": {},
     "output_type": "execute_result"
    }
   ],
   "source": [
    "#**\n",
    "\n",
    "students = ['abdul','satish','shwetha','hussain','spurthi']\n",
    "len(students)"
   ]
  },
  {
   "cell_type": "code",
   "execution_count": null,
   "metadata": {},
   "outputs": [],
   "source": [
    "Looping:\n",
    "    \n",
    "For looping using in python:"
   ]
  },
  {
   "cell_type": "code",
   "execution_count": 7,
   "metadata": {},
   "outputs": [
    {
     "name": "stdout",
     "output_type": "stream",
     "text": [
      "you are doing good job, Shareef\n"
     ]
    }
   ],
   "source": [
    "my_students = ['shareef','ravi','sravanthi','lakshmi','sirish']\n",
    "\n",
    "#obj:\n",
    "\n",
    "print(f\"you are doing good job, {my_students[0].title()}\")"
   ]
  },
  {
   "cell_type": "code",
   "execution_count": 11,
   "metadata": {},
   "outputs": [
    {
     "name": "stdout",
     "output_type": "stream",
     "text": [
      "shareef\n",
      "ravi\n",
      "sravanthi\n",
      "lakshmi\n",
      "sirish\n"
     ]
    }
   ],
   "source": [
    "for batman in my_students: #temp_variable\n",
    "    print(batman) #indentation\n",
    "    \n",
    "for furit in fruits\n",
    "\n",
    "for student in students"
   ]
  },
  {
   "cell_type": "code",
   "execution_count": 14,
   "metadata": {},
   "outputs": [
    {
     "name": "stdout",
     "output_type": "stream",
     "text": [
      "Shareef,keep up the good practise\n",
      "Ravi,keep up the good practise\n",
      "Sravanthi,keep up the good practise\n",
      "Lakshmi,keep up the good practise\n",
      "Sirish,keep up the good practise\n",
      "\n",
      "Thank you all for shwoing intrest in learning python\n"
     ]
    }
   ],
   "source": [
    "for student in my_students:\n",
    "    print(f\"{student.title()},keep up the good practise\")\n",
    "    \n",
    "print(\"\\nThank you all for shwoing intrest in learning python\")"
   ]
  },
  {
   "cell_type": "code",
   "execution_count": null,
   "metadata": {},
   "outputs": [],
   "source": []
  }
 ],
 "metadata": {
  "kernelspec": {
   "display_name": "Python 3",
   "language": "python",
   "name": "python3"
  },
  "language_info": {
   "codemirror_mode": {
    "name": "ipython",
    "version": 3
   },
   "file_extension": ".py",
   "mimetype": "text/x-python",
   "name": "python",
   "nbconvert_exporter": "python",
   "pygments_lexer": "ipython3",
   "version": "3.7.3"
  }
 },
 "nbformat": 4,
 "nbformat_minor": 2
}
